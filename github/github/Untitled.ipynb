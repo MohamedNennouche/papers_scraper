{
 "cells": [
  {
   "cell_type": "code",
   "execution_count": null,
   "id": "3d252b55-9a72-4f4a-9aa8-df995a191632",
   "metadata": {},
   "outputs": [],
   "source": [
    "import scrapy\n",
    "from scrapy.loader import ItemLoader\n",
    "\n",
    "\n",
    "class arxivissues(scrapy.Spider):\n",
    "    name = 'issue'\n",
    "    start_urls = ['https://github.com/ML4Comm-Netw/Paper-with-Code-of-Wireless-communication-Based-on-DL/issues/15']\n",
    "\n",
    "    def parse(self, response):\n",
    "        for comments in response.css('td.d-block.comment-body.markdown-body.js-comment-body'):\n",
    "\n",
    "            yield {'comments' : comments.css('p::text').getall()}\n",
    "\n",
    "    \n",
    "\n"
   ]
  }
 ],
 "metadata": {
  "kernelspec": {
   "display_name": "Python 3 (ipykernel)",
   "language": "python",
   "name": "python3"
  },
  "language_info": {
   "codemirror_mode": {
    "name": "ipython",
    "version": 3
   },
   "file_extension": ".py",
   "mimetype": "text/x-python",
   "name": "python",
   "nbconvert_exporter": "python",
   "pygments_lexer": "ipython3",
   "version": "3.10.12"
  }
 },
 "nbformat": 4,
 "nbformat_minor": 5
}
